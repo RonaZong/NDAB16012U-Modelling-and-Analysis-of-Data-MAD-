{
 "cells": [
  {
   "cell_type": "markdown",
   "metadata": {},
   "source": [
    "# This is an example Jupyter notebook\n",
    "You can combine text (in Markdown) and Python code in an interactive notebook.\n",
    "\n",
    "Double click in a cell to edit its content.\n",
    "\n",
    "You can run the code in individual cells or all cells (see options under the Cell menu)."
   ]
  },
  {
   "cell_type": "code",
   "execution_count": null,
   "metadata": {
    "scrolled": true
   },
   "outputs": [],
   "source": [
    "# I can add and run some Python code in a cell of type Code \n",
    "# (see options under the Cell type submenu of the Cell menu)\n",
    "print(\"Hello world!\")"
   ]
  }
 ],
 "metadata": {
  "kernelspec": {
   "display_name": "Python 3",
   "language": "python",
   "name": "python3"
  },
  "language_info": {
   "codemirror_mode": {
    "name": "ipython",
    "version": 3
   },
   "file_extension": ".py",
   "mimetype": "text/x-python",
   "name": "python",
   "nbconvert_exporter": "python",
   "pygments_lexer": "ipython3",
   "version": "3.6.12"
  }
 },
 "nbformat": 4,
 "nbformat_minor": 2
}
