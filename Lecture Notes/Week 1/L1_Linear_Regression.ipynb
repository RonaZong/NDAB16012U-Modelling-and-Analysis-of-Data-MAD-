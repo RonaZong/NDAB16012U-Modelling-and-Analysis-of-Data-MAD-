{
 "cells": [
  {
   "cell_type": "markdown",
   "metadata": {},
   "source": [
    "Import the usual libraries"
   ]
  },
  {
   "cell_type": "code",
   "execution_count": null,
   "metadata": {},
   "outputs": [],
   "source": [
    "%matplotlib inline\n",
    "import numpy as np\n",
    "import matplotlib.pyplot as plt"
   ]
  },
  {
   "cell_type": "markdown",
   "metadata": {},
   "source": [
    "We shall work with the dataset found in the file 'murderdata.txt', which is a 20 x 5 data matrix where the columns correspond to\n",
    "\n",
    "Index (not for use in analysis)\n",
    "\n",
    "Number of inhabitants\n",
    "\n",
    "Percent with incomes below $5000\n",
    "\n",
    "Percent unemployed\n",
    "\n",
    "Murders per annum per 1,000,000 inhabitants\n",
    "\n",
    "**Reference:**\n",
    "\n",
    "Helmut Spaeth,\n",
    "Mathematical Algorithms for Linear Regression,\n",
    "Academic Press, 1991,\n",
    "ISBN 0-12-656460-4.\n",
    "\n",
    "D G Kleinbaum and L L Kupper,\n",
    "Applied Regression Analysis and Other Multivariable Methods,\n",
    "Duxbury Press, 1978, page 150.\n",
    "\n",
    "http://people.sc.fsu.edu/~jburkardt/datasets/regression\n",
    "\n",
    "**What to do?**\n",
    "\n",
    "We start by loading the data; today we will study how the number of murders relates to the percentage of unemployment."
   ]
  },
  {
   "cell_type": "code",
   "execution_count": null,
   "metadata": {},
   "outputs": [],
   "source": [
    "data = np.loadtxt('murderdata.txt')\n",
    "print(data)\n",
    "N, d = data.shape\n",
    "\n",
    "unemployment = data[:,3]\n",
    "murders = data[:,4]"
   ]
  },
  {
   "cell_type": "markdown",
   "metadata": {},
   "source": [
    "Let's start out by looking at our data"
   ]
  },
  {
   "cell_type": "code",
   "execution_count": null,
   "metadata": {},
   "outputs": [],
   "source": [
    "plt.scatter(unemployment, murders)\n",
    "plt.xlabel('Percentage of unemployment')\n",
    "plt.ylabel('Murders per annum per 1,000,000 inhabitants')\n",
    "plt.xlim([3,11])\n",
    "plt.ylim([-10,50])"
   ]
  },
  {
   "cell_type": "code",
   "execution_count": null,
   "metadata": {},
   "outputs": [],
   "source": [
    "def linreg_univar_analytic(x,t):\n",
    "    \"\"\" \n",
    "    Computes an optimal solution for linear regression (1D case)\n",
    "    \n",
    "    Parameters\n",
    "    ----------\n",
    "    x : A numpy array containing the input variables\n",
    "    t : A numpy array containing the output variables\n",
    "    \n",
    "    \"\"\"\n",
    "    \n",
    "    # compute w_0 and w_1 using np.dot and np.mean    \n",
    "    \n",
    "    # FIXME\n",
    "    w0 = 0\n",
    "    w1 = 0\n",
    "    \n",
    "    return w0, w1"
   ]
  },
  {
   "cell_type": "code",
   "execution_count": null,
   "metadata": {},
   "outputs": [],
   "source": [
    "w0, w1 = linreg_univar_analytic(unemployment, murders)\n",
    "print(\"w0=%f, w1=%f\" % (w0,w1))"
   ]
  },
  {
   "cell_type": "code",
   "execution_count": null,
   "metadata": {},
   "outputs": [],
   "source": [
    "plt.scatter(unemployment, murders)\n",
    "xplot = np.linspace(4,10,100)\n",
    "yplot = w0 + w1*xplot\n",
    "plt.plot(xplot, yplot, 'r')\n",
    "plt.xlabel('Percentage of unemployment')\n",
    "plt.ylabel('Murders per annum per 1,000,000 inhabitants')\n",
    "plt.xlim([3,11])\n",
    "plt.ylim([-10,50])"
   ]
  },
  {
   "cell_type": "code",
   "execution_count": null,
   "metadata": {},
   "outputs": [],
   "source": []
  }
 ],
 "metadata": {
  "anaconda-cloud": {},
  "kernelspec": {
   "display_name": "Python 3",
   "language": "python",
   "name": "python3"
  },
  "language_info": {
   "codemirror_mode": {
    "name": "ipython",
    "version": 3
   },
   "file_extension": ".py",
   "mimetype": "text/x-python",
   "name": "python",
   "nbconvert_exporter": "python",
   "pygments_lexer": "ipython3",
   "version": "3.6.8"
  }
 },
 "nbformat": 4,
 "nbformat_minor": 1
}
