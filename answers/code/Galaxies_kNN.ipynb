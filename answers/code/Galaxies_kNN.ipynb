{
 "cells": [
  {
   "cell_type": "code",
   "execution_count": null,
   "metadata": {},
   "outputs": [],
   "source": [
    "import csv\n",
    "import numpy"
   ]
  },
  {
   "cell_type": "code",
   "execution_count": null,
   "metadata": {},
   "outputs": [],
   "source": [
    "train_data = numpy.loadtxt(\"data/galaxies_train.csv\", delimiter=\",\", skiprows=1)\n",
    "test_data = numpy.loadtxt(\"data/galaxies_test.csv\", delimiter=\",\", skiprows=1)\n",
    "\n",
    "X_train = train_data[:,1:]\n",
    "t_train = train_data[:,0]\n",
    "X_test = test_data[:,1:]\n",
    "t_test = test_data[:,0]\n",
    "print(\"Number of training instances: %i\" % X_train.shape[0])\n",
    "print(\"Number of test instances: %i\" % X_test.shape[0])\n",
    "print(\"Number of attributes: %i\" % X_train.shape[1])"
   ]
  },
  {
   "cell_type": "code",
   "execution_count": null,
   "metadata": {},
   "outputs": [],
   "source": [
    "# NOTE: You are supposed to use this strucuture, i.e., \n",
    "# the pre-defined functions and variables. If you \n",
    "# have difficulties to keep this structure, you ARE \n",
    "# ALLOWED to adapt/change the code structure slightly!\n",
    "# You might also want to add additional functions or\n",
    "# variables.\n",
    "\n",
    "class NearestNeighborRegressor:\n",
    "    \n",
    "    def __init__(self, n_neighbors=1, dist_measure=\"euclidean\", dist_matrix=None):\n",
    "        \"\"\"\n",
    "        Initializes the model.\n",
    "        \n",
    "        Parameters\n",
    "        ----------\n",
    "        n_neighbors : The number of nearest neigbhors (default 1)\n",
    "        dist_measure : The distance measure used (default \"euclidean\")\n",
    "        dist_matrix : The distance matrix if needed (default \"None\")\n",
    "        \"\"\"\n",
    "        \n",
    "        self.n_neighbors = n_neighbors\n",
    "        self.dist_measure = dist_measure\n",
    "        self.dist_matrix = dist_matrix\n",
    "    \n",
    "    def fit(self, X, t):\n",
    "        \"\"\"\n",
    "        Fits the nearest neighbor regression model.\n",
    "\n",
    "        Parameters\n",
    "        ----------\n",
    "        X : Array of shape [n_samples, n_features]\n",
    "        t : Array of length n_samples\n",
    "        \"\"\" \n",
    "        \n",
    "        self.X_train = X\n",
    "        self.t_train = t\n",
    "    \n",
    "    def predict(self, X):\n",
    "        \"\"\"\n",
    "        Computes predictions for a new set of points.\n",
    "\n",
    "        Parameters\n",
    "        ----------\n",
    "        X : Array of shape [n_samples, n_features]\n",
    "\n",
    "        Returns\n",
    "        -------\n",
    "        predictions : Array of length n_samples\n",
    "        \"\"\"         \n",
    "        \n",
    "        predictions = []\n",
    "        \n",
    "        # TODO: ADD YOUR CODE HERE\n",
    "            \n",
    "        predictions = numpy.array(predictions)\n",
    "        \n",
    "        return predictions\n",
    "    "
   ]
  },
  {
   "cell_type": "code",
   "execution_count": null,
   "metadata": {},
   "outputs": [],
   "source": [
    "# TODO: ADD YOUR CODE HERE"
   ]
  }
 ],
 "metadata": {
  "kernelspec": {
   "display_name": "Python 3",
   "language": "python",
   "name": "python3"
  },
  "language_info": {
   "codemirror_mode": {
    "name": "ipython",
    "version": 3
   },
   "file_extension": ".py",
   "mimetype": "text/x-python",
   "name": "python",
   "nbconvert_exporter": "python",
   "pygments_lexer": "ipython3",
   "version": "3.6.9"
  }
 },
 "nbformat": 4,
 "nbformat_minor": 2
}
